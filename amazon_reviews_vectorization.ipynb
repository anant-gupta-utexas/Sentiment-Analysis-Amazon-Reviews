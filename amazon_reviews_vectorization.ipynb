{
 "cells": [
  {
   "cell_type": "code",
   "execution_count": 1,
   "metadata": {
    "id": "9fqSaMq25I3A"
   },
   "outputs": [],
   "source": [
    "import pandas as pd\n",
    "import numpy as np\n",
    "from sklearn.feature_extraction.text import CountVectorizer\n",
    "from sklearn.feature_extraction.text import TfidfVectorizer, TfidfTransformer\n",
    "import regex as re\n",
    "import seaborn as sns\n",
    "import matplotlib.pyplot as plt\n",
    "from sklearn.ensemble import RandomForestRegressor, RandomForestClassifier\n",
    "from sklearn.neighbors import KNeighborsRegressor\n",
    "\n",
    "from sklearn.metrics.pairwise import cosine_similarity\n",
    "\n",
    "%matplotlib inline"
   ]
  },
  {
   "cell_type": "code",
   "execution_count": 2,
   "metadata": {
    "colab": {
     "base_uri": "https://localhost:8080/"
    },
    "id": "_30Tz6nOtBA-",
    "outputId": "f463e82e-6f51-42e2-c622-3eb59d83012d"
   },
   "outputs": [
    {
     "name": "stdout",
     "output_type": "stream",
     "text": [
      "[nltk_data] Downloading package vader_lexicon to /root/nltk_data...\n"
     ]
    },
    {
     "name": "stderr",
     "output_type": "stream",
     "text": [
      "/usr/local/lib/python3.7/dist-packages/nltk/twitter/__init__.py:20: UserWarning: The twython library has not been installed. Some functionality from the twitter package will not be available.\n",
      "  warnings.warn(\"The twython library has not been installed. \"\n"
     ]
    }
   ],
   "source": [
    "import nltk\n",
    "nltk.download('vader_lexicon')\n",
    "from nltk.sentiment.vader import SentimentIntensityAnalyzer\n",
    "from nltk import ngrams"
   ]
  },
  {
   "cell_type": "code",
   "execution_count": 3,
   "metadata": {
    "id": "MGwON7AYiihx"
   },
   "outputs": [],
   "source": [
    "pd.set_option('display.max_rows', 500)"
   ]
  },
  {
   "cell_type": "code",
   "execution_count": 4,
   "metadata": {
    "colab": {
     "base_uri": "https://localhost:8080/"
    },
    "id": "Mf8WRaLnfdtp",
    "outputId": "17945e5c-5bd6-4441-db34-e9720eca1bd9"
   },
   "outputs": [
    {
     "name": "stdout",
     "output_type": "stream",
     "text": [
      "Drive already mounted at /content/drive; to attempt to forcibly remount, call drive.mount(\"/content/drive\", force_remount=True).\n"
     ]
    }
   ],
   "source": [
    "from google.colab import drive\n",
    "drive.mount('/content/drive')"
   ]
  },
  {
   "cell_type": "code",
   "execution_count": 5,
   "metadata": {
    "id": "raltGKbl68Ua"
   },
   "outputs": [],
   "source": [
    "products = pd.read_csv('/content/drive/MyDrive/Unstructured Assignment 2/products_complete.csv')\n",
    "reviews = pd.read_csv('/content/drive/MyDrive/Unstructured Assignment 2/scraped_data3.csv')"
   ]
  },
  {
   "cell_type": "code",
   "execution_count": 6,
   "metadata": {
    "colab": {
     "base_uri": "https://localhost:8080/",
     "height": 293
    },
    "id": "B9k1L04051u5",
    "outputId": "665317a3-1745-4d79-86d1-83e22ec12823"
   },
   "outputs": [
    {
     "data": {
      "text/html": [
       "<div>\n",
       "<style scoped>\n",
       "    .dataframe tbody tr th:only-of-type {\n",
       "        vertical-align: middle;\n",
       "    }\n",
       "\n",
       "    .dataframe tbody tr th {\n",
       "        vertical-align: top;\n",
       "    }\n",
       "\n",
       "    .dataframe thead th {\n",
       "        text-align: right;\n",
       "    }\n",
       "</style>\n",
       "<table border=\"1\" class=\"dataframe\">\n",
       "  <thead>\n",
       "    <tr style=\"text-align: right;\">\n",
       "      <th></th>\n",
       "      <th>product</th>\n",
       "      <th>link</th>\n",
       "      <th>features</th>\n",
       "      <th>description</th>\n",
       "      <th>review_pages</th>\n",
       "    </tr>\n",
       "  </thead>\n",
       "  <tbody>\n",
       "    <tr>\n",
       "      <th>0</th>\n",
       "      <td>Men's Lightweight Waterproof Hooded Rain Jacke...</td>\n",
       "      <td>/gp/slredirect/picassoRedirect.html/ref=pa_sp_...</td>\n",
       "      <td>100% Polyester Imported Polyester lining Zipp...</td>\n",
       "      <td>This waterproof ski jacket is made of 100% po...</td>\n",
       "      <td>/Lightweight-Waterproof-Hooded-Outdoor-Raincoa...</td>\n",
       "    </tr>\n",
       "    <tr>\n",
       "      <th>1</th>\n",
       "      <td>Men's Full-Zip Polar Fleece Jacket</td>\n",
       "      <td>/Amazon-Essentials-Full-Zip-Fleece-Jacket/dp/B...</td>\n",
       "      <td>100% Polyester Imported Zipper closure Machin...</td>\n",
       "      <td>Amazon Essentials is focused on creating affo...</td>\n",
       "      <td>/Amazon-Essentials-Full-Zip-Fleece-Jacket/prod...</td>\n",
       "    </tr>\n",
       "    <tr>\n",
       "      <th>2</th>\n",
       "      <td>mens Ascender Softshell Front-zip Jacket</td>\n",
       "      <td>/Columbia-Ascender-Softshell-Jacket-Resistant/...</td>\n",
       "      <td>100% Polyester Imported Zipper closure Machin...</td>\n",
       "      <td>There's nothing more necessary than a wind an...</td>\n",
       "      <td>/Columbia-Ascender-Softshell-Front-Zip-Jacket/...</td>\n",
       "    </tr>\n",
       "    <tr>\n",
       "      <th>3</th>\n",
       "      <td>Men's Watertight Ii Jacket</td>\n",
       "      <td>/Columbia-Watertight-Jacket-Black-Large/dp/B00...</td>\n",
       "      <td>Shell: 100% Nylon; Lining: 100% Polyester Imp...</td>\n",
       "      <td>Columbia's rain jackets work around the clock...</td>\n",
       "      <td>/Columbia-Mens-Watertight-Ii-Jacket/product-re...</td>\n",
       "    </tr>\n",
       "    <tr>\n",
       "      <th>4</th>\n",
       "      <td>Men's Slim Fit Lightweight Sportswear Jacket C...</td>\n",
       "      <td>/URBANFIND-Lightweight-Sportswear-Jacket-Casua...</td>\n",
       "      <td>100% Polyester Imported Zipper closure slim f...</td>\n",
       "      <td>100% Polyester Tips: If you are strong and ta...</td>\n",
       "      <td>/URBANFIND-Lightweight-Sportswear-Jacket-Casua...</td>\n",
       "    </tr>\n",
       "  </tbody>\n",
       "</table>\n",
       "</div>"
      ],
      "text/plain": [
       "                                             product  ...                                       review_pages\n",
       "0  Men's Lightweight Waterproof Hooded Rain Jacke...  ...  /Lightweight-Waterproof-Hooded-Outdoor-Raincoa...\n",
       "1                 Men's Full-Zip Polar Fleece Jacket  ...  /Amazon-Essentials-Full-Zip-Fleece-Jacket/prod...\n",
       "2           mens Ascender Softshell Front-zip Jacket  ...  /Columbia-Ascender-Softshell-Front-Zip-Jacket/...\n",
       "3                         Men's Watertight Ii Jacket  ...  /Columbia-Mens-Watertight-Ii-Jacket/product-re...\n",
       "4  Men's Slim Fit Lightweight Sportswear Jacket C...  ...  /URBANFIND-Lightweight-Sportswear-Jacket-Casua...\n",
       "\n",
       "[5 rows x 5 columns]"
      ]
     },
     "execution_count": 6,
     "metadata": {},
     "output_type": "execute_result"
    }
   ],
   "source": [
    "products.head()"
   ]
  },
  {
   "cell_type": "code",
   "execution_count": 7,
   "metadata": {
    "colab": {
     "base_uri": "https://localhost:8080/",
     "height": 206
    },
    "id": "3rtbrJQ76Bc2",
    "outputId": "d58f0228-2b06-4436-f985-705d6392cbad"
   },
   "outputs": [
    {
     "data": {
      "text/html": [
       "<div>\n",
       "<style scoped>\n",
       "    .dataframe tbody tr th:only-of-type {\n",
       "        vertical-align: middle;\n",
       "    }\n",
       "\n",
       "    .dataframe tbody tr th {\n",
       "        vertical-align: top;\n",
       "    }\n",
       "\n",
       "    .dataframe thead th {\n",
       "        text-align: right;\n",
       "    }\n",
       "</style>\n",
       "<table border=\"1\" class=\"dataframe\">\n",
       "  <thead>\n",
       "    <tr style=\"text-align: right;\">\n",
       "      <th></th>\n",
       "      <th>product</th>\n",
       "      <th>review_title</th>\n",
       "      <th>review_rating</th>\n",
       "      <th>review_text</th>\n",
       "    </tr>\n",
       "  </thead>\n",
       "  <tbody>\n",
       "    <tr>\n",
       "      <th>0</th>\n",
       "      <td>Men's Lightweight Waterproof Hooded Rain Jacke...</td>\n",
       "      <td>Excellent price, actually waterproof, lightwei...</td>\n",
       "      <td>5</td>\n",
       "      <td>Your browser does not support HTML5 video.\\n\\n...</td>\n",
       "    </tr>\n",
       "    <tr>\n",
       "      <th>1</th>\n",
       "      <td>Men's Lightweight Waterproof Hooded Rain Jacke...</td>\n",
       "      <td>Actually pretty good.</td>\n",
       "      <td>5</td>\n",
       "      <td>I ordered an XL thinking that it would run sma...</td>\n",
       "    </tr>\n",
       "    <tr>\n",
       "      <th>2</th>\n",
       "      <td>Men's Lightweight Waterproof Hooded Rain Jacke...</td>\n",
       "      <td>NOT WATERPROOF</td>\n",
       "      <td>1</td>\n",
       "      <td>I wanted to like this jacket, I'm tall and hav...</td>\n",
       "    </tr>\n",
       "    <tr>\n",
       "      <th>3</th>\n",
       "      <td>Men's Lightweight Waterproof Hooded Rain Jacke...</td>\n",
       "      <td>Good Jacket to wear over warm clothes</td>\n",
       "      <td>5</td>\n",
       "      <td>A great rain coat for the price. Beware, howev...</td>\n",
       "    </tr>\n",
       "    <tr>\n",
       "      <th>4</th>\n",
       "      <td>Men's Lightweight Waterproof Hooded Rain Jacke...</td>\n",
       "      <td>Poor cuff closure design.</td>\n",
       "      <td>3</td>\n",
       "      <td>I'm 5'9 165lbs and I ordered a medium. It fits...</td>\n",
       "    </tr>\n",
       "  </tbody>\n",
       "</table>\n",
       "</div>"
      ],
      "text/plain": [
       "                                             product  ...                                        review_text\n",
       "0  Men's Lightweight Waterproof Hooded Rain Jacke...  ...  Your browser does not support HTML5 video.\\n\\n...\n",
       "1  Men's Lightweight Waterproof Hooded Rain Jacke...  ...  I ordered an XL thinking that it would run sma...\n",
       "2  Men's Lightweight Waterproof Hooded Rain Jacke...  ...  I wanted to like this jacket, I'm tall and hav...\n",
       "3  Men's Lightweight Waterproof Hooded Rain Jacke...  ...  A great rain coat for the price. Beware, howev...\n",
       "4  Men's Lightweight Waterproof Hooded Rain Jacke...  ...  I'm 5'9 165lbs and I ordered a medium. It fits...\n",
       "\n",
       "[5 rows x 4 columns]"
      ]
     },
     "execution_count": 7,
     "metadata": {},
     "output_type": "execute_result"
    }
   ],
   "source": [
    "reviews.head()"
   ]
  },
  {
   "cell_type": "markdown",
   "metadata": {
    "id": "CbCJkrcpIpwL"
   },
   "source": [
    "# data cleaning"
   ]
  },
  {
   "cell_type": "code",
   "execution_count": 8,
   "metadata": {
    "id": "M_8nmMJHItNB"
   },
   "outputs": [],
   "source": [
    "review_mapping = pd.DataFrame(reviews['product'].unique(), columns=['product_name'])"
   ]
  },
  {
   "cell_type": "code",
   "execution_count": 9,
   "metadata": {
    "id": "ydT7EHdnKGdV"
   },
   "outputs": [],
   "source": [
    "def find_product_id(string):\n",
    "  for i in range(len(products)):\n",
    "    if products['product'].iloc[i] in string:\n",
    "      return i\n",
    "  return -1"
   ]
  },
  {
   "cell_type": "code",
   "execution_count": 10,
   "metadata": {
    "id": "BWdBLMOqKWCO"
   },
   "outputs": [],
   "source": [
    "review_mapping['prouduct_id'] = review_mapping['product_name'].apply(find_product_id)"
   ]
  },
  {
   "cell_type": "code",
   "execution_count": 11,
   "metadata": {
    "id": "hvGhKgkJwaeV"
   },
   "outputs": [],
   "source": [
    "review_map= {}\n",
    "for i in range(len(review_mapping)):\n",
    "  review_map[review_mapping['product_name'].iloc[i]] = review_mapping['prouduct_id'].iloc[i]"
   ]
  },
  {
   "cell_type": "markdown",
   "metadata": {
    "id": "nDo5qi2c6NM6"
   },
   "source": [
    "# Figuring out key features in \"Jackets for men\""
   ]
  },
  {
   "cell_type": "code",
   "execution_count": 12,
   "metadata": {
    "id": "4kZcrpzryC1d"
   },
   "outputs": [],
   "source": [
    "cleaning = {'pockets' : 'pocket', 'zippered' : 'zip', 'zipper' : 'zip', \n",
    "            'zippers' : 'zip', 'comfortable' : 'comfort', 'fits' : 'fit',\n",
    "            'warmth' : 'warm', 'sleeves' : 'sleeve', 'hoodie' : 'hood', \n",
    "            'shoulders' : 'shoulder', 'lightweight' : 'light'}"
   ]
  },
  {
   "cell_type": "code",
   "execution_count": 13,
   "metadata": {
    "id": "kY6fVNCl6qJO"
   },
   "outputs": [],
   "source": [
    "def clean_text(string):\n",
    "    if pd.isna(string):\n",
    "        return \"\"\n",
    "    string = string.lower()\n",
    "    string = string.replace(\"\\n\", \" \").replace(\"\\t\", \" \")\n",
    "    string = re.sub(r'[^\\w]', ' ', string)\n",
    "\n",
    "    for original, new_word in cleaning.items():\n",
    "      string = string.replace(original, new_word)\n",
    "    return string"
   ]
  },
  {
   "cell_type": "markdown",
   "metadata": {
    "id": "Edgmr8lh6Ytv"
   },
   "source": [
    "### Key things that Amazon Sellers talk about"
   ]
  },
  {
   "cell_type": "code",
   "execution_count": 14,
   "metadata": {
    "id": "GrSIu7D56KOi"
   },
   "outputs": [],
   "source": [
    "products['cleaned_features'] = products['features'].apply(clean_text)\n",
    "products['cleaned_description'] = products['description'].apply(clean_text)"
   ]
  },
  {
   "cell_type": "code",
   "execution_count": 15,
   "metadata": {
    "id": "dRrhVZBG7Ndg"
   },
   "outputs": [],
   "source": [
    "description_corpus = \"\"\n",
    "\n",
    "for desc in products['cleaned_description']:\n",
    "  description_corpus = description_corpus + \" \" + desc"
   ]
  },
  {
   "cell_type": "code",
   "execution_count": 16,
   "metadata": {
    "id": "pT4qSab0h4wS"
   },
   "outputs": [],
   "source": [
    "feature_corpus = \"\"\n",
    "\n",
    "for feature in products['cleaned_features']:\n",
    "  feature_corpus = feature_corpus + \" \" + feature"
   ]
  },
  {
   "cell_type": "code",
   "execution_count": 17,
   "metadata": {
    "id": "2UJiJJgbiAmk"
   },
   "outputs": [],
   "source": [
    "vectorizer = CountVectorizer(stop_words='english')\n",
    "X = vectorizer.fit_transform([description_corpus])\n",
    "word_count = pd.Series(X.toarray()[0], index=vectorizer.get_feature_names())"
   ]
  },
  {
   "cell_type": "code",
   "execution_count": 18,
   "metadata": {
    "id": "cz3VCvw3iKjr"
   },
   "outputs": [],
   "source": [
    "ranked_word_count = word_count.sort_values(ascending=False)\n",
    "ranked_word_count.to_csv('/content/drive/MyDrive/Unstructured Assignment 2/word_freq_desc.csv')"
   ]
  },
  {
   "cell_type": "code",
   "execution_count": 19,
   "metadata": {
    "id": "2AXj0MuPjVat"
   },
   "outputs": [],
   "source": [
    "vectorizer = CountVectorizer(stop_words='english')\n",
    "X = vectorizer.fit_transform([feature_corpus])\n",
    "word_count = pd.Series(X.toarray()[0], index=vectorizer.get_feature_names())\n",
    "ranked_word_count = word_count.sort_values(ascending=False)\n",
    "ranked_word_count.to_csv('/content/drive/MyDrive/Unstructured Assignment 2/word_freq_features.csv')"
   ]
  },
  {
   "cell_type": "code",
   "execution_count": 20,
   "metadata": {
    "id": "jZiJ2LOAsg3D"
   },
   "outputs": [],
   "source": [
    "# not in order\n",
    "key_features_seller = ['pocket', 'fit', 'zip', \n",
    "                       'waterproof', 'style', 'hood', 'warm', 'size',\n",
    "                       'chest', 'sleeve', 'fleece', 'rain', \n",
    "                       'fabric', 'quality', 'comfort',\n",
    "                       'light', 'lining']"
   ]
  },
  {
   "cell_type": "markdown",
   "metadata": {
    "id": "2OA1_kdgtq64"
   },
   "source": [
    "### Key things that customers talk about"
   ]
  },
  {
   "cell_type": "code",
   "execution_count": 21,
   "metadata": {
    "id": "YelH8j72tw8Q"
   },
   "outputs": [],
   "source": [
    "reviews['cleaned_reviews'] = reviews['review_text'].apply(clean_text)"
   ]
  },
  {
   "cell_type": "code",
   "execution_count": 22,
   "metadata": {
    "id": "0KmjOax4uUbJ"
   },
   "outputs": [],
   "source": [
    "review_corpus = \"\"\n",
    "\n",
    "for review in reviews['cleaned_reviews']:\n",
    "  review_corpus = review_corpus + \" \" + review"
   ]
  },
  {
   "cell_type": "code",
   "execution_count": 23,
   "metadata": {
    "id": "RkohkEKeuJHG"
   },
   "outputs": [],
   "source": [
    "vectorizer = CountVectorizer(stop_words='english')\n",
    "X = vectorizer.fit_transform([review_corpus])\n",
    "word_count = pd.Series(X.toarray()[0], index=vectorizer.get_feature_names())\n",
    "ranked_word_count = word_count.sort_values(ascending=False)\n",
    "ranked_word_count.to_csv('/content/drive/MyDrive/Unstructured Assignment 2/word_freq_reviews.csv')"
   ]
  },
  {
   "cell_type": "code",
   "execution_count": 24,
   "metadata": {
    "id": "ik_giN8HwKri"
   },
   "outputs": [],
   "source": [
    "# not in order\n",
    "key_features_customers = ['fit', 'size', 'warm', 'quality', 'pocket', 'rain', \n",
    "                          'price', 'waterproof', 'hood', 'outdoor', \n",
    "                          'zip', 'chest', 'sleeve', 'fleece', 'rain', \n",
    "                          'material', 'comfort', 'shoulder', 'heavy']"
   ]
  },
  {
   "cell_type": "markdown",
   "metadata": {
    "id": "I5RY3C6PxHua"
   },
   "source": [
    "### Key Features Overall"
   ]
  },
  {
   "cell_type": "code",
   "execution_count": 25,
   "metadata": {
    "colab": {
     "base_uri": "https://localhost:8080/"
    },
    "id": "LBqNTm3Bwz7p",
    "outputId": "bd7350cd-2e14-4eaf-ca16-bfa3fce5f404"
   },
   "outputs": [
    {
     "data": {
      "text/plain": [
       "['material',\n",
       " 'sleeve',\n",
       " 'light',\n",
       " 'price',\n",
       " 'fit',\n",
       " 'style',\n",
       " 'waterproof',\n",
       " 'quality',\n",
       " 'hood',\n",
       " 'lining',\n",
       " 'size',\n",
       " 'pocket',\n",
       " 'heavy',\n",
       " 'chest',\n",
       " 'zip',\n",
       " 'outdoor',\n",
       " 'shoulder',\n",
       " 'comfort',\n",
       " 'fabric',\n",
       " 'rain',\n",
       " 'warm',\n",
       " 'fleece']"
      ]
     },
     "execution_count": 25,
     "metadata": {},
     "output_type": "execute_result"
    }
   ],
   "source": [
    "features = list(set(key_features_seller) | set(key_features_customers))\n",
    "features"
   ]
  },
  {
   "cell_type": "markdown",
   "metadata": {
    "id": "Y_zZWWJvuQ-h"
   },
   "source": [
    "# Sentiment Analysis"
   ]
  },
  {
   "cell_type": "markdown",
   "metadata": {
    "id": "15v41Y-Z0_GV"
   },
   "source": [
    "## Overall Vader perfromance check"
   ]
  },
  {
   "cell_type": "code",
   "execution_count": 26,
   "metadata": {
    "colab": {
     "base_uri": "https://localhost:8080/"
    },
    "id": "1G6z0gz-vVUU",
    "outputId": "354ccda4-2fda-46ef-9fcb-e28c1576432a"
   },
   "outputs": [
    {
     "name": "stdout",
     "output_type": "stream",
     "text": [
      "This jacket is great. {'neg': 0.0, 'neu': 0.423, 'pos': 0.577, 'compound': 0.6249}\n",
      "This jacket's fit is great. {'neg': 0.0, 'neu': 0.312, 'pos': 0.688, 'compound': 0.765}\n",
      "This jacket is not warm enough {'neg': 0.25, 'neu': 0.75, 'pos': 0.0, 'compound': -0.1695}\n",
      " {'neg': 0.0, 'neu': 0.0, 'pos': 0.0, 'compound': 0.0}\n"
     ]
    }
   ],
   "source": [
    "analyzer = SentimentIntensityAnalyzer()\n",
    "\n",
    "# let's check how vader performs on sentence\n",
    "print(\"This jacket is great.\", analyzer.polarity_scores(\"This jacket is great.\"))\n",
    "print(\"This jacket's fit is great.\", analyzer.polarity_scores(\"This jacket's fit is great.\"))\n",
    "print(\"This jacket is not warm enough\", analyzer.polarity_scores(\"This jacket is not warm enough\"))\n",
    "print(\"\", analyzer.polarity_scores(\"\"))"
   ]
  },
  {
   "cell_type": "markdown",
   "metadata": {
    "id": "FDFcpaJxyehL"
   },
   "source": [
    "Let's see how well the rating is correlated with vader scores"
   ]
  },
  {
   "cell_type": "code",
   "execution_count": 27,
   "metadata": {
    "id": "ZQec3s34ykcF"
   },
   "outputs": [],
   "source": [
    "reviews['review_text'] = reviews['review_text'].apply(lambda s: \"\" if pd.isna(s) else s)\n",
    "reviews['review_title'] = reviews['review_title'].apply(lambda s: \"\" if pd.isna(s) else s)\n",
    "\n",
    "reviews['sent_score_cleaned'] = reviews['cleaned_reviews'].apply(lambda s: analyzer.polarity_scores(s)['compound'])\n",
    "reviews['sent_score'] = reviews['review_text'].apply(lambda s: analyzer.polarity_scores(s)['compound'])\n",
    "reviews['sent_score_title'] = reviews['review_title'].apply(lambda s: analyzer.polarity_scores(s)['compound'])"
   ]
  },
  {
   "cell_type": "code",
   "execution_count": 28,
   "metadata": {
    "colab": {
     "base_uri": "https://localhost:8080/",
     "height": 296
    },
    "id": "HfI1znXPzIKM",
    "outputId": "7cbf6384-3673-4442-85be-2ad484a75b29"
   },
   "outputs": [
    {
     "data": {
      "image/png": "[encoded data removed]",
      "text/plain": [
       "<Figure size 432x288 with 1 Axes>"
      ]
     },
     "metadata": {
      "needs_background": "light"
     },
     "output_type": "display_data"
    }
   ],
   "source": [
    "sns.boxplot(data = reviews, y = 'sent_score_cleaned', x = 'review_rating').set(title='Sentiment score performance on cleaned dataset')\n",
    "plt.show()"
   ]
  },
  {
   "cell_type": "code",
   "execution_count": 29,
   "metadata": {
    "colab": {
     "base_uri": "https://localhost:8080/",
     "height": 296
    },
    "id": "8vSueFrU0NJK",
    "outputId": "7effec55-5be6-4e8b-afbf-02de62e7191b"
   },
   "outputs": [
    {
     "data": {
      "image/png": "[encoded data removed]",
      "text/plain": [
       "<Figure size 432x288 with 1 Axes>"
      ]
     },
     "metadata": {
      "needs_background": "light"
     },
     "output_type": "display_data"
    }
   ],
   "source": [
    "sns.boxplot(data = reviews, y = 'sent_score', x = 'review_rating').set(title='Sentiment score performance on original reviews')\n",
    "plt.show()"
   ]
  },
  {
   "cell_type": "code",
   "execution_count": 30,
   "metadata": {
    "colab": {
     "base_uri": "https://localhost:8080/",
     "height": 296
    },
    "id": "UjEKzZIW1Sj8",
    "outputId": "520731ac-57c7-4e3a-e9f9-78a9a8562cc8"
   },
   "outputs": [
    {
     "data": {
      "image/png": "[encoded data removed]",
      "text/plain": [
       "<Figure size 432x288 with 1 Axes>"
      ]
     },
     "metadata": {
      "needs_background": "light"
     },
     "output_type": "display_data"
    }
   ],
   "source": [
    "sns.boxplot(data = reviews, y = 'sent_score_title', x = 'review_rating').set(title='Sentiment score performance on review titles')\n",
    "plt.show()"
   ]
  },
  {
   "cell_type": "code",
   "execution_count": 31,
   "metadata": {
    "colab": {
     "base_uri": "https://localhost:8080/"
    },
    "id": "kiOil93zF9ne",
    "outputId": "13ca06c7-2255-42fa-a47f-b91ca76334b4"
   },
   "outputs": [
    {
     "name": "stdout",
     "output_type": "stream",
     "text": [
      "Accuracy of fit -  0.7223997808419322\n"
     ]
    }
   ],
   "source": [
    "# we are using this ot find the optimal n to use for n-gram\n",
    "\n",
    "rf = RandomForestClassifier()\n",
    "rf.fit(reviews[['sent_score_cleaned']], reviews['review_rating'])\n",
    "print(\"Accuracy of fit - \", rf.score(reviews[['sent_score_cleaned']], reviews['review_rating']))"
   ]
  },
  {
   "cell_type": "markdown",
   "metadata": {
    "id": "1G7WHprP1ELQ"
   },
   "source": [
    "Looks like vader sentiment scorer is performing well for ratings in general. For zero rating, there seems to be some ambiguity. <br>\n",
    "\n",
    "Looks like title has good amount information about the customer is feeling in general"
   ]
  },
  {
   "cell_type": "markdown",
   "metadata": {
    "id": "TYro5A8tAPyu"
   },
   "source": [
    "## Performance on at attribute level"
   ]
  },
  {
   "cell_type": "code",
   "execution_count": 32,
   "metadata": {
    "id": "ynZz9zkC2by3"
   },
   "outputs": [],
   "source": [
    "## given a sentence extract all features in ngram mode\n",
    "def extract_n_grams(n, features, sentence):\n",
    "  n_grams = {}\n",
    "\n",
    "  #initialisation\n",
    "  for feature in features:\n",
    "    n_grams[feature] = []\n",
    "\n",
    "  if len(sentence) == 0:\n",
    "    return n_grams\n",
    "\n",
    "  if len(sentence.split()) < n:\n",
    "    for feature in features:\n",
    "      if feature in sentence:\n",
    "        n_grams[feature] = n_grams[feature] + [sentence]\n",
    "\n",
    "    \n",
    "    return n_grams\n",
    "\n",
    "  temp = ngrams(sentence.split(), n)\n",
    "\n",
    "  for tupl in temp:\n",
    "    for feature in features:\n",
    "      string = ' '.join(list(tupl))\n",
    "      if feature in string:\n",
    "        n_grams[feature] = n_grams[feature] + [string]\n",
    "  \n",
    "  return n_grams"
   ]
  },
  {
   "cell_type": "code",
   "execution_count": 33,
   "metadata": {
    "id": "YnRLjk8f14kt"
   },
   "outputs": [],
   "source": [
    "def avg_sentiment_score(list_string):\n",
    "  if len(list_string) == 0:\n",
    "    return 0\n",
    "  \n",
    "  score = 0\n",
    "  for string in list_string:\n",
    "    score = score + analyzer.polarity_scores(string)['compound']\n",
    "  \n",
    "  return np.average(score)"
   ]
  },
  {
   "cell_type": "code",
   "execution_count": 34,
   "metadata": {
    "id": "qoOvFHPhH9VN"
   },
   "outputs": [],
   "source": [
    "# highest accuracy for predicting rating achieved when title was added.\n",
    "# more complex combinations can also be explored in which title is given more advantage. \n",
    "# Right now, review body is domintaing because body is going to have longer text.\n",
    "# Some ideas of increasing domninance - 1. use weighted average of sentiment scores\n",
    "# 2. Add title twice in all content column\n",
    "\n",
    "reviews['all_content'] = reviews['review_title'] + \" \" + reviews['cleaned_reviews']"
   ]
  },
  {
   "cell_type": "code",
   "execution_count": 35,
   "metadata": {
    "id": "zdD9jB_G0vWq"
   },
   "outputs": [],
   "source": [
    "review_sentiment = pd.DataFrame(np.zeros((len(reviews), len(features))), columns = features)\n",
    "\n",
    "for i in range(len(review_sentiment)):\n",
    "\n",
    "  try: \n",
    "    n_grams = extract_n_grams(5, features, reviews['all_content'].iloc[i])\n",
    "  except:\n",
    "    print(reviews['cleaned_reviews'].iloc[i])\n",
    "  for feature in features:\n",
    "    review_sentiment[feature].iloc[i] = avg_sentiment_score(n_grams[feature])"
   ]
  },
  {
   "cell_type": "code",
   "execution_count": 36,
   "metadata": {
    "colab": {
     "base_uri": "https://localhost:8080/",
     "height": 112
    },
    "id": "xy4HkLSFzqJ0",
    "outputId": "f700e8ad-b492-4f80-e2ba-ad23e257eff8"
   },
   "outputs": [
    {
     "data": {
      "text/html": [
       "<div>\n",
       "<style scoped>\n",
       "    .dataframe tbody tr th:only-of-type {\n",
       "        vertical-align: middle;\n",
       "    }\n",
       "\n",
       "    .dataframe tbody tr th {\n",
       "        vertical-align: top;\n",
       "    }\n",
       "\n",
       "    .dataframe thead th {\n",
       "        text-align: right;\n",
       "    }\n",
       "</style>\n",
       "<table border=\"1\" class=\"dataframe\">\n",
       "  <thead>\n",
       "    <tr style=\"text-align: right;\">\n",
       "      <th></th>\n",
       "      <th>material</th>\n",
       "      <th>sleeve</th>\n",
       "      <th>light</th>\n",
       "      <th>price</th>\n",
       "      <th>fit</th>\n",
       "      <th>style</th>\n",
       "      <th>waterproof</th>\n",
       "      <th>quality</th>\n",
       "      <th>hood</th>\n",
       "      <th>lining</th>\n",
       "      <th>size</th>\n",
       "      <th>pocket</th>\n",
       "      <th>heavy</th>\n",
       "      <th>chest</th>\n",
       "      <th>zip</th>\n",
       "      <th>outdoor</th>\n",
       "      <th>shoulder</th>\n",
       "      <th>comfort</th>\n",
       "      <th>fabric</th>\n",
       "      <th>rain</th>\n",
       "      <th>warm</th>\n",
       "      <th>fleece</th>\n",
       "    </tr>\n",
       "  </thead>\n",
       "  <tbody>\n",
       "    <tr>\n",
       "      <th>0</th>\n",
       "      <td>0.0</td>\n",
       "      <td>0.0</td>\n",
       "      <td>2.4466</td>\n",
       "      <td>0.5719</td>\n",
       "      <td>0.0</td>\n",
       "      <td>0.0</td>\n",
       "      <td>0.5719</td>\n",
       "      <td>0.0</td>\n",
       "      <td>0.0</td>\n",
       "      <td>0.0</td>\n",
       "      <td>0.0</td>\n",
       "      <td>0.000</td>\n",
       "      <td>0.0</td>\n",
       "      <td>0.0</td>\n",
       "      <td>0.0</td>\n",
       "      <td>0.0</td>\n",
       "      <td>0.0</td>\n",
       "      <td>0.0</td>\n",
       "      <td>0.0</td>\n",
       "      <td>0.0</td>\n",
       "      <td>0.0000</td>\n",
       "      <td>0.0</td>\n",
       "    </tr>\n",
       "    <tr>\n",
       "      <th>1</th>\n",
       "      <td>0.0</td>\n",
       "      <td>0.0</td>\n",
       "      <td>0.0000</td>\n",
       "      <td>0.0000</td>\n",
       "      <td>0.0</td>\n",
       "      <td>0.0</td>\n",
       "      <td>0.6768</td>\n",
       "      <td>0.0</td>\n",
       "      <td>0.0</td>\n",
       "      <td>0.0</td>\n",
       "      <td>0.0</td>\n",
       "      <td>0.101</td>\n",
       "      <td>0.0</td>\n",
       "      <td>0.0</td>\n",
       "      <td>0.0</td>\n",
       "      <td>0.0</td>\n",
       "      <td>0.0</td>\n",
       "      <td>0.0</td>\n",
       "      <td>0.0</td>\n",
       "      <td>0.0</td>\n",
       "      <td>0.9052</td>\n",
       "      <td>0.0</td>\n",
       "    </tr>\n",
       "  </tbody>\n",
       "</table>\n",
       "</div>"
      ],
      "text/plain": [
       "   material  sleeve   light   price  fit  ...  comfort  fabric  rain    warm  fleece\n",
       "0       0.0     0.0  2.4466  0.5719  0.0  ...      0.0     0.0   0.0  0.0000     0.0\n",
       "1       0.0     0.0  0.0000  0.0000  0.0  ...      0.0     0.0   0.0  0.9052     0.0\n",
       "\n",
       "[2 rows x 22 columns]"
      ]
     },
     "execution_count": 36,
     "metadata": {},
     "output_type": "execute_result"
    }
   ],
   "source": [
    "review_sentiment.head(2)"
   ]
  },
  {
   "cell_type": "code",
   "execution_count": 37,
   "metadata": {
    "colab": {
     "base_uri": "https://localhost:8080/",
     "height": 515
    },
    "id": "wOwCyHlk6Sv0",
    "outputId": "5c7dfdf9-9893-4383-e6b6-a5513a44d2a3"
   },
   "outputs": [
    {
     "data": {
      "text/plain": [
       "<matplotlib.axes._subplots.AxesSubplot at 0x7f788606ff10>"
      ]
     },
     "execution_count": 37,
     "metadata": {},
     "output_type": "execute_result"
    },
    {
     "data": {
      "image/png": "[encoded data removed]",
      "text/plain": [
       "<Figure size 432x576 with 1 Axes>"
      ]
     },
     "metadata": {
      "needs_background": "light"
     },
     "output_type": "display_data"
    }
   ],
   "source": [
    "series = review_sentiment > 0\n",
    "series = series.sum()\n",
    "s = review_sentiment.sum() / series\n",
    "s = s.reset_index()\n",
    "s.columns = ['feature', 'score']\n",
    "plt.figure(figsize=(6,8))\n",
    "sns.barplot(data = s, y = 'feature', x = 'score')"
   ]
  },
  {
   "cell_type": "code",
   "execution_count": 38,
   "metadata": {
    "colab": {
     "base_uri": "https://localhost:8080/",
     "height": 1000
    },
    "id": "X9X4JlVNAT0a",
    "outputId": "908b2e95-f76d-45d3-ebf2-2d4db23d87a3"
   },
   "outputs": [
    {
     "data": {
      "image/png": "[encoded data removed]",
      "text/plain": [
       "<Figure size 432x288 with 1 Axes>"
      ]
     },
     "metadata": {
      "needs_background": "light"
     },
     "output_type": "display_data"
    },
    {
     "data": {
      "image/png": "[encoded data removed]",
      "text/plain": [
       "<Figure size 432x288 with 1 Axes>"
      ]
     },
     "metadata": {
      "needs_background": "light"
     },
     "output_type": "display_data"
    },
    {
     "data": {
      "image/png": "[encoded data removed]",
      "text/plain": [
       "<Figure size 432x288 with 1 Axes>"
      ]
     },
     "metadata": {
      "needs_background": "light"
     },
     "output_type": "display_data"
    },
    {
     "data": {
      "image/png": "[encoded data removed]",
      "text/plain": [
       "<Figure size 432x288 with 1 Axes>"
      ]
     },
     "metadata": {
      "needs_background": "light"
     },
     "output_type": "display_data"
    },
    {
     "data": {
      "image/png": "[encoded data removed]",
      "text/plain": [
       "<Figure size 432x288 with 1 Axes>"
      ]
     },
     "metadata": {
      "needs_background": "light"
     },
     "output_type": "display_data"
    },
    {
     "data": {
      "image/png": "[encoded data removed]",
      "text/plain": [
       "<Figure size 432x288 with 1 Axes>"
      ]
     },
     "metadata": {
      "needs_background": "light"
     },
     "output_type": "display_data"
    },
    {
     "data": {
      "image/png": "[encoded data removed]",
      "text/plain": [
       "<Figure size 432x288 with 1 Axes>"
      ]
     },
     "metadata": {
      "needs_background": "light"
     },
     "output_type": "display_data"
    },
    {
     "data": {
      "image/png": "[encoded data removed]",
      "text/plain": [
       "<Figure size 432x288 with 1 Axes>"
      ]
     },
     "metadata": {
      "needs_background": "light"
     },
     "output_type": "display_data"
    },
    {
     "data": {
      "image/png": "[encoded data removed]",
      "text/plain": [
       "<Figure size 432x288 with 1 Axes>"
      ]
     },
     "metadata": {
      "needs_background": "light"
     },
     "output_type": "display_data"
    },
    {
     "data": {
      "image/png": "[encoded data removed]",
      "text/plain": [
       "<Figure size 432x288 with 1 Axes>"
      ]
     },
     "metadata": {
      "needs_background": "light"
     },
     "output_type": "display_data"
    },
    {
     "data": {
      "image/png": "[encoded data removed]",
      "text/plain": [
       "<Figure size 432x288 with 1 Axes>"
      ]
     },
     "metadata": {
      "needs_background": "light"
     },
     "output_type": "display_data"
    },
    {
     "data": {
      "image/png": "[encoded data removed]",
      "text/plain": [
       "<Figure size 432x288 with 1 Axes>"
      ]
     },
     "metadata": {
      "needs_background": "light"
     },
     "output_type": "display_data"
    },
    {
     "data": {
      "image/png": "[encoded data removed]",
      "text/plain": [
       "<Figure size 432x288 with 1 Axes>"
      ]
     },
     "metadata": {
      "needs_background": "light"
     },
     "output_type": "display_data"
    },
    {
     "data": {
      "image/png": "[encoded data removed]",
      "text/plain": [
       "<Figure size 432x288 with 1 Axes>"
      ]
     },
     "metadata": {
      "needs_background": "light"
     },
     "output_type": "display_data"
    },
    {
     "data": {
      "image/png": "[encoded data removed]",
      "text/plain": [
       "<Figure size 432x288 with 1 Axes>"
      ]
     },
     "metadata": {
      "needs_background": "light"
     },
     "output_type": "display_data"
    },
    {
     "data": {
      "image/png": "[encoded data removed]",
      "text/plain": [
       "<Figure size 432x288 with 1 Axes>"
      ]
     },
     "metadata": {
      "needs_background": "light"
     },
     "output_type": "display_data"
    },
    {
     "data": {
      "image/png": "[encoded data removed]",
      "text/plain": [
       "<Figure size 432x288 with 1 Axes>"
      ]
     },
     "metadata": {
      "needs_background": "light"
     },
     "output_type": "display_data"
    },
    {
     "data": {
      "image/png": "[encoded data removed]",
      "text/plain": [
       "<Figure size 432x288 with 1 Axes>"
      ]
     },
     "metadata": {
      "needs_background": "light"
     },
     "output_type": "display_data"
    },
    {
     "data": {
      "image/png": "[encoded data removed]",
      "text/plain": [
       "<Figure size 432x288 with 1 Axes>"
      ]
     },
     "metadata": {
      "needs_background": "light"
     },
     "output_type": "display_data"
    },
    {
     "data": {
      "image/png": "[encoded data removed]",
      "text/plain": [
       "<Figure size 432x288 with 1 Axes>"
      ]
     },
     "metadata": {
      "needs_background": "light"
     },
     "output_type": "display_data"
    },
    {
     "data": {
      "image/png": "[encoded data removed]",
      "text/plain": [
       "<Figure size 432x288 with 1 Axes>"
      ]
     },
     "metadata": {
      "needs_background": "light"
     },
     "output_type": "display_data"
    },
    {
     "data": {
      "image/png": "[encoded data removed]",
      "text/plain": [
       "<Figure size 432x288 with 1 Axes>"
      ]
     },
     "metadata": {
      "needs_background": "light"
     },
     "output_type": "display_data"
    }
   ],
   "source": [
    "for f in features:\n",
    "  sns.kdeplot(data=review_sentiment, x=f)\n",
    "  plt.xlim([-1,1])\n",
    "  plt.show()"
   ]
  },
  {
   "cell_type": "markdown",
   "metadata": {
    "id": "rq514Rg8DX4e"
   },
   "source": [
    "# Feature Importance"
   ]
  },
  {
   "cell_type": "code",
   "execution_count": 39,
   "metadata": {
    "colab": {
     "base_uri": "https://localhost:8080/",
     "height": 344
    },
    "id": "DemnOxF9_kfZ",
    "outputId": "1e462548-b6c5-4293-9128-5d61b55dd659"
   },
   "outputs": [
    {
     "name": "stdout",
     "output_type": "stream",
     "text": [
      "Accuracy of fit -  0.8514290932334947\n"
     ]
    },
    {
     "data": {
      "text/plain": [
       "<matplotlib.axes._subplots.AxesSubplot at 0x7f7886009cd0>"
      ]
     },
     "execution_count": 39,
     "metadata": {},
     "output_type": "execute_result"
    },
    {
     "data": {
      "image/png": "[encoded data removed]",
      "text/plain": [
       "<Figure size 432x288 with 1 Axes>"
      ]
     },
     "metadata": {
      "needs_background": "light"
     },
     "output_type": "display_data"
    }
   ],
   "source": [
    "# we are using this ot find the optimal n to use for n-gram\n",
    "\n",
    "rf = RandomForestClassifier()\n",
    "rf.fit(review_sentiment, reviews['review_rating'])\n",
    "print(\"Accuracy of fit - \", rf.score(review_sentiment, reviews['review_rating']))\n",
    "pd.Series(index = features, data = rf.feature_importances_).sort_values().plot(kind = 'bar')"
   ]
  },
  {
   "cell_type": "markdown",
   "metadata": {
    "id": "InuI_aY328gr"
   },
   "source": [
    "# Product recommendation based on product reviews"
   ]
  },
  {
   "cell_type": "code",
   "execution_count": 40,
   "metadata": {
    "id": "h8m9RdCctihi"
   },
   "outputs": [],
   "source": [
    "review_sentiment['product'] = reviews['product']"
   ]
  },
  {
   "cell_type": "code",
   "execution_count": 41,
   "metadata": {
    "colab": {
     "base_uri": "https://localhost:8080/",
     "height": 625
    },
    "id": "EDMd83q4_cpo",
    "outputId": "3fe32f70-b53c-4517-9408-2e05a99feaf6"
   },
   "outputs": [
    {
     "data": {
      "text/html": [
       "<div>\n",
       "<style scoped>\n",
       "    .dataframe tbody tr th:only-of-type {\n",
       "        vertical-align: middle;\n",
       "    }\n",
       "\n",
       "    .dataframe tbody tr th {\n",
       "        vertical-align: top;\n",
       "    }\n",
       "\n",
       "    .dataframe thead th {\n",
       "        text-align: right;\n",
       "    }\n",
       "</style>\n",
       "<table border=\"1\" class=\"dataframe\">\n",
       "  <thead>\n",
       "    <tr style=\"text-align: right;\">\n",
       "      <th></th>\n",
       "      <th>product</th>\n",
       "      <th>chest</th>\n",
       "      <th>comfort</th>\n",
       "      <th>fabric</th>\n",
       "      <th>fit</th>\n",
       "      <th>fleece</th>\n",
       "      <th>heavy</th>\n",
       "      <th>hood</th>\n",
       "      <th>light</th>\n",
       "      <th>lining</th>\n",
       "      <th>material</th>\n",
       "      <th>outdoor</th>\n",
       "      <th>pocket</th>\n",
       "      <th>price</th>\n",
       "      <th>quality</th>\n",
       "      <th>rain</th>\n",
       "      <th>shoulder</th>\n",
       "      <th>size</th>\n",
       "      <th>sleeve</th>\n",
       "      <th>style</th>\n",
       "      <th>warm</th>\n",
       "      <th>waterproof</th>\n",
       "      <th>zip</th>\n",
       "    </tr>\n",
       "  </thead>\n",
       "  <tbody>\n",
       "    <tr>\n",
       "      <th>62</th>\n",
       "      <td>The North Face Men's Junction Insulated Jacket</td>\n",
       "      <td>0.007250</td>\n",
       "      <td>0.130291</td>\n",
       "      <td>0.000000</td>\n",
       "      <td>0.455271</td>\n",
       "      <td>0.000000</td>\n",
       "      <td>0.000000</td>\n",
       "      <td>0.000000</td>\n",
       "      <td>0.252829</td>\n",
       "      <td>0.000000</td>\n",
       "      <td>0.020148</td>\n",
       "      <td>0.000000</td>\n",
       "      <td>-0.015244</td>\n",
       "      <td>0.069268</td>\n",
       "      <td>0.101793</td>\n",
       "      <td>0.033017</td>\n",
       "      <td>0.000000</td>\n",
       "      <td>0.190181</td>\n",
       "      <td>0.000000</td>\n",
       "      <td>0.000000</td>\n",
       "      <td>0.763655</td>\n",
       "      <td>0.000000</td>\n",
       "      <td>0.000000</td>\n",
       "    </tr>\n",
       "    <tr>\n",
       "      <th>6</th>\n",
       "      <td>BALEAF Men's Cycling Running Jacket Waterproof...</td>\n",
       "      <td>0.004939</td>\n",
       "      <td>0.139953</td>\n",
       "      <td>0.021900</td>\n",
       "      <td>0.937697</td>\n",
       "      <td>-0.005418</td>\n",
       "      <td>-0.005920</td>\n",
       "      <td>0.046798</td>\n",
       "      <td>0.183139</td>\n",
       "      <td>-0.007683</td>\n",
       "      <td>0.124621</td>\n",
       "      <td>0.024826</td>\n",
       "      <td>0.198162</td>\n",
       "      <td>0.040723</td>\n",
       "      <td>0.062884</td>\n",
       "      <td>0.210433</td>\n",
       "      <td>0.014785</td>\n",
       "      <td>0.114676</td>\n",
       "      <td>0.044637</td>\n",
       "      <td>0.003185</td>\n",
       "      <td>0.291920</td>\n",
       "      <td>0.051958</td>\n",
       "      <td>0.088041</td>\n",
       "    </tr>\n",
       "    <tr>\n",
       "      <th>55</th>\n",
       "      <td>TACVASEN Men's Jacket-Lightweight Casual Sprin...</td>\n",
       "      <td>0.001806</td>\n",
       "      <td>0.158733</td>\n",
       "      <td>0.007742</td>\n",
       "      <td>0.791678</td>\n",
       "      <td>0.000000</td>\n",
       "      <td>0.016406</td>\n",
       "      <td>0.009351</td>\n",
       "      <td>0.228184</td>\n",
       "      <td>0.007963</td>\n",
       "      <td>0.029781</td>\n",
       "      <td>0.000000</td>\n",
       "      <td>0.015492</td>\n",
       "      <td>0.111735</td>\n",
       "      <td>0.256879</td>\n",
       "      <td>-0.000706</td>\n",
       "      <td>0.010918</td>\n",
       "      <td>0.065603</td>\n",
       "      <td>0.005260</td>\n",
       "      <td>0.038677</td>\n",
       "      <td>0.093419</td>\n",
       "      <td>0.000000</td>\n",
       "      <td>0.034908</td>\n",
       "    </tr>\n",
       "    <tr>\n",
       "      <th>23</th>\n",
       "      <td>Columbia Men’s Timberline Triple Interchange W...</td>\n",
       "      <td>0.000000</td>\n",
       "      <td>0.370190</td>\n",
       "      <td>0.000000</td>\n",
       "      <td>1.028079</td>\n",
       "      <td>0.142304</td>\n",
       "      <td>0.000000</td>\n",
       "      <td>0.076717</td>\n",
       "      <td>0.082971</td>\n",
       "      <td>0.058097</td>\n",
       "      <td>0.021487</td>\n",
       "      <td>0.000000</td>\n",
       "      <td>0.095044</td>\n",
       "      <td>0.146750</td>\n",
       "      <td>0.191824</td>\n",
       "      <td>0.061814</td>\n",
       "      <td>0.048463</td>\n",
       "      <td>0.127439</td>\n",
       "      <td>0.066716</td>\n",
       "      <td>0.015480</td>\n",
       "      <td>0.890084</td>\n",
       "      <td>0.035371</td>\n",
       "      <td>0.054146</td>\n",
       "    </tr>\n",
       "    <tr>\n",
       "      <th>73</th>\n",
       "      <td>Wantdo Men's Faux Leather Jacket with Removabl...</td>\n",
       "      <td>0.027971</td>\n",
       "      <td>0.343930</td>\n",
       "      <td>0.000258</td>\n",
       "      <td>1.676747</td>\n",
       "      <td>0.000000</td>\n",
       "      <td>0.072091</td>\n",
       "      <td>0.147580</td>\n",
       "      <td>0.043773</td>\n",
       "      <td>0.016220</td>\n",
       "      <td>0.141359</td>\n",
       "      <td>0.014562</td>\n",
       "      <td>0.069949</td>\n",
       "      <td>0.213252</td>\n",
       "      <td>0.365221</td>\n",
       "      <td>0.010732</td>\n",
       "      <td>0.022633</td>\n",
       "      <td>0.150707</td>\n",
       "      <td>0.029936</td>\n",
       "      <td>0.069710</td>\n",
       "      <td>0.761921</td>\n",
       "      <td>0.000000</td>\n",
       "      <td>0.030593</td>\n",
       "    </tr>\n",
       "  </tbody>\n",
       "</table>\n",
       "</div>"
      ],
      "text/plain": [
       "                                              product  ...       zip\n",
       "62     The North Face Men's Junction Insulated Jacket  ...  0.000000\n",
       "6   BALEAF Men's Cycling Running Jacket Waterproof...  ...  0.088041\n",
       "55  TACVASEN Men's Jacket-Lightweight Casual Sprin...  ...  0.034908\n",
       "23  Columbia Men’s Timberline Triple Interchange W...  ...  0.054146\n",
       "73  Wantdo Men's Faux Leather Jacket with Removabl...  ...  0.030593\n",
       "\n",
       "[5 rows x 23 columns]"
      ]
     },
     "execution_count": 41,
     "metadata": {},
     "output_type": "execute_result"
    }
   ],
   "source": [
    "product_sentiment = pd.pivot_table(data = review_sentiment, index='product', \n",
    "                                   values=features, aggfunc=np.mean).reset_index()\n",
    "product_sentiment.sample(5)"
   ]
  },
  {
   "cell_type": "code",
   "execution_count": 42,
   "metadata": {
    "id": "-5IjmMel1GIp"
   },
   "outputs": [],
   "source": [
    "def top_n_products(imp_attributes, n):\n",
    "\n",
    "  vector = [imp_attributes[feature] if feature in imp_attributes else 0 for feature in features]\n",
    "  vector = np.array(vector)\n",
    "\n",
    "  cosine_scores = cosine_similarity(vector.reshape(1,-1), product_sentiment[features])[0]\n",
    "\n",
    "  top_n = pd.Series(index = product_sentiment['product'],\n",
    "                     data = cosine_scores).sort_values(ascending = False)[:n]\n",
    "\n",
    "  return top_n"
   ]
  },
  {
   "cell_type": "code",
   "execution_count": 43,
   "metadata": {
    "colab": {
     "base_uri": "https://localhost:8080/"
    },
    "id": "KMOsh5Ci2dQq",
    "outputId": "2acae160-00eb-476f-a745-f532a1c6d770"
   },
   "outputs": [
    {
     "data": {
      "text/plain": [
       "product\n",
       "TOTNMC Men's Casual Coats for men Slim Fit Softshell Jacket Winter Fall Jacket Mens Windbreakers Bomber Jacket,Grey,X-Large    0.632076\n",
       "TACVASEN Lightweight Jacket for Men Softshell Fall Thin Bomber Coat, Black 2XL                                                 0.580419\n",
       "Mastermind - Men's Leather Motorcycle Jacket                                                                                   0.578248\n",
       "Amazon Essentials Men's Lightweight Bomber Jacket                                                                              0.572436\n",
       "Champion Men's Packable Jacket                                                                                                 0.561019\n",
       "TACVASEN Men's Jacket-Lightweight Thin Sportwear Varsity Jacket, Green M                                                       0.552284\n",
       "TACVASEN Men's Jacket-Lightweight Casual Spring Fall Thin Bomber Zip Pockets Coat Outwear                                      0.552284\n",
       "Columbia Men's Utilizer Jacket, Collegiate Navy 2                                                                              0.548161\n",
       "OTU Men's Lightweight Waterproof Hooded Rain Jacket Outdoor Raincoat Shell Jacket for Hiking Travel                            0.543432\n",
       "Men's Lightweight Waterproof Hooded Rain Jacket Outdoor Raincoat Shell Jacket for Hiking Travel                                0.543432\n",
       "Amazon Essentials Men's Water-Resistant Softshell Jacket                                                                       0.535587\n",
       "Levi's Men's Faux Leather Sherpa Aviator Bomber Jacket                                                                         0.529085\n",
       "adidas Men's Essentials 3-Stripes Tricot Track Jacket                                                                          0.524700\n",
       "ARIAT Men's Vernon 2.0 Softshell Jacket                                                                                        0.506994\n",
       "First Mfg Co Men's Mandarin collar with center zipper                                                                          0.504641\n",
       "Tanming Men's Casual Slim Fit Lightweight Zip Up Softshell Bomber Jacket                                                       0.500643\n",
       "Chaps Men's Classic Fit Full-Zip Microfiber Jacket                                                                             0.499200\n",
       "CRYSULLY Men’s Fall Fashion Zipper Up Casual Windbreak Bomber Jacket Coat Army Green                                           0.498922\n",
       "EKLENTSON Fleece Jacket Men Military Jacket Men Casual Jacket Lightweight Ski Jacket Men Army Jacket for Men Fashion Khaki     0.491566\n",
       "Tommy Hilfiger Men's Hooded Performance Fleece Jacket                                                                          0.489162\n",
       "dtype: float64"
      ]
     },
     "execution_count": 43,
     "metadata": {},
     "output_type": "execute_result"
    }
   ],
   "source": [
    "top_n_products({'zip': 1, \n",
    "                'quality':1, \n",
    "                'price':2, \n",
    "                'fit':1}, 20)"
   ]
  },
  {
   "cell_type": "markdown",
   "metadata": {
    "id": "-WQTmJLpvkVm"
   },
   "source": [
    "# Product description vectors"
   ]
  },
  {
   "cell_type": "code",
   "execution_count": 44,
   "metadata": {
    "id": "fbdMVg456FxL"
   },
   "outputs": [],
   "source": [
    "products['all_data'] = products['cleaned_features'] + \" \" + products['cleaned_description']"
   ]
  },
  {
   "cell_type": "code",
   "execution_count": 45,
   "metadata": {
    "id": "6WoOqIWSP9yl"
   },
   "outputs": [],
   "source": [
    "def check_product_name(string):\n",
    "  for name in list(review_mapping['product_name']):\n",
    "    if string in name:\n",
    "      return True \n",
    "  return False"
   ]
  },
  {
   "cell_type": "code",
   "execution_count": 46,
   "metadata": {
    "colab": {
     "base_uri": "https://localhost:8080/",
     "height": 362
    },
    "id": "yXcN6KKH_w2m",
    "outputId": "40fe4704-71a3-4261-937b-364bf3192b4a"
   },
   "outputs": [
    {
     "data": {
      "text/html": [
       "<div>\n",
       "<style scoped>\n",
       "    .dataframe tbody tr th:only-of-type {\n",
       "        vertical-align: middle;\n",
       "    }\n",
       "\n",
       "    .dataframe tbody tr th {\n",
       "        vertical-align: top;\n",
       "    }\n",
       "\n",
       "    .dataframe thead th {\n",
       "        text-align: right;\n",
       "    }\n",
       "</style>\n",
       "<table border=\"1\" class=\"dataframe\">\n",
       "  <thead>\n",
       "    <tr style=\"text-align: right;\">\n",
       "      <th></th>\n",
       "      <th>product</th>\n",
       "      <th>link</th>\n",
       "      <th>features</th>\n",
       "      <th>description</th>\n",
       "      <th>review_pages</th>\n",
       "      <th>cleaned_features</th>\n",
       "      <th>cleaned_description</th>\n",
       "      <th>all_data</th>\n",
       "    </tr>\n",
       "  </thead>\n",
       "  <tbody>\n",
       "    <tr>\n",
       "      <th>107</th>\n",
       "      <td>Men's Short Sleeve Launch Cage Jacket</td>\n",
       "      <td>/Rawlings-LNCCJ-N-93-Navy-3X-Large/dp/B07DWXS3...</td>\n",
       "      <td>Zipper closure Stretch fabric construction fo...</td>\n",
       "      <td>RawlingsA Men's Short Sleeve Launch Cage Jack...</td>\n",
       "      <td>/Rawlings-Short-Sleeve-Launch-Jacket/product-r...</td>\n",
       "      <td>zip closure stretch fabric construction for e...</td>\n",
       "      <td>rawlingsa men s short sleeve launch cage jack...</td>\n",
       "      <td>zip closure stretch fabric construction for e...</td>\n",
       "    </tr>\n",
       "    <tr>\n",
       "      <th>7</th>\n",
       "      <td>Men's Steens Mountain 2.0 Full Zip Fleece Jacket</td>\n",
       "      <td>/Columbia-Steens-Mountain-Fleece-Jacket/dp/B00...</td>\n",
       "      <td>100% Polyester Imported Zipper closure Machin...</td>\n",
       "      <td>The next generation of a Columbia classic, th...</td>\n",
       "      <td>/Columbia-Steens-Mountain-Fleece-Jacket/produc...</td>\n",
       "      <td>100  polyester imported zip closure machine w...</td>\n",
       "      <td>the next generation of a columbia classic  th...</td>\n",
       "      <td>100  polyester imported zip closure machine w...</td>\n",
       "    </tr>\n",
       "    <tr>\n",
       "      <th>85</th>\n",
       "      <td>Men's Tiro 21 Track Jacket</td>\n",
       "      <td>/adidas-Track-Jacket-Power-Medium/dp/B089K8FWZ...</td>\n",
       "      <td>100% Polyester Imported Men's track jacket fo...</td>\n",
       "      <td>Don't limit your soccer style to the field. T...</td>\n",
       "      <td>/adidas-mens-Tiro-Track-Jacket/product-reviews...</td>\n",
       "      <td>100  polyester imported men s track jacket fo...</td>\n",
       "      <td>don t limit your soccer style to the field  t...</td>\n",
       "      <td>100  polyester imported men s track jacket fo...</td>\n",
       "    </tr>\n",
       "    <tr>\n",
       "      <th>36</th>\n",
       "      <td>Men's Rugged Wear Unlined Denim Jacket</td>\n",
       "      <td>/Wrangler-Rugged-Unlined-Jacket-Vintage/dp/B00...</td>\n",
       "      <td>100% Cotton Imported Button closure Machine W...</td>\n",
       "      <td>Wrangler Men's Rugged Wear Unlined Denim Jack...</td>\n",
       "      <td>/Wrangler-Rugged-Unlined-Denim-Jacket/product-...</td>\n",
       "      <td>100  cotton imported button closure machine w...</td>\n",
       "      <td>wrangler men s rugged wear unlined denim jack...</td>\n",
       "      <td>100  cotton imported button closure machine w...</td>\n",
       "    </tr>\n",
       "    <tr>\n",
       "      <th>51</th>\n",
       "      <td>Men's Mandarin collar with center zipper</td>\n",
       "      <td>/First-Mfg-Co-Mandarin-collar/dp/B07MN6QHBV/re...</td>\n",
       "      <td>MATERIAL: This Men’s Motorcycle Leather Jacke...</td>\n",
       "      <td>NaN</td>\n",
       "      <td>/First-Mfg-Co-Mandarin-collar/product-reviews/...</td>\n",
       "      <td>material  this men s motorcycle leather jacke...</td>\n",
       "      <td></td>\n",
       "      <td>material  this men s motorcycle leather jacke...</td>\n",
       "    </tr>\n",
       "  </tbody>\n",
       "</table>\n",
       "</div>"
      ],
      "text/plain": [
       "                                              product  ...                                           all_data\n",
       "107             Men's Short Sleeve Launch Cage Jacket  ...   zip closure stretch fabric construction for e...\n",
       "7    Men's Steens Mountain 2.0 Full Zip Fleece Jacket  ...   100  polyester imported zip closure machine w...\n",
       "85                         Men's Tiro 21 Track Jacket  ...   100  polyester imported men s track jacket fo...\n",
       "36             Men's Rugged Wear Unlined Denim Jacket  ...   100  cotton imported button closure machine w...\n",
       "51           Men's Mandarin collar with center zipper  ...   material  this men s motorcycle leather jacke...\n",
       "\n",
       "[5 rows x 8 columns]"
      ]
     },
     "execution_count": 46,
     "metadata": {},
     "output_type": "execute_result"
    }
   ],
   "source": [
    "filtered_products = products[products['product'].apply(check_product_name)]\n",
    "filtered_products.sample(5)"
   ]
  },
  {
   "cell_type": "code",
   "execution_count": 47,
   "metadata": {
    "colab": {
     "base_uri": "https://localhost:8080/"
    },
    "id": "MeEARUG8vsIh",
    "outputId": "37672c66-acdc-4f11-ffea-3bec7970dfb6"
   },
   "outputs": [
    {
     "data": {
      "text/plain": [
       "<113x22 sparse matrix of type '<class 'numpy.float64'>'\n",
       "\twith 756 stored elements in Compressed Sparse Row format>"
      ]
     },
     "execution_count": 47,
     "metadata": {},
     "output_type": "execute_result"
    }
   ],
   "source": [
    "count_vector = CountVectorizer(vocabulary=features)\n",
    "tf_idf = TfidfTransformer()\n",
    "vector = count_vector.fit_transform(filtered_products['all_data'])\n",
    "product_vectors = tf_idf.fit_transform(vector)\n",
    "product_vectors"
   ]
  },
  {
   "cell_type": "markdown",
   "metadata": {
    "id": "bqQpN0hPvjY3"
   },
   "source": [
    "# Description and Review similarity"
   ]
  },
  {
   "cell_type": "code",
   "execution_count": 48,
   "metadata": {
    "id": "iWSbb7AT1OS8"
   },
   "outputs": [],
   "source": [
    "def add_prd_id(string):\n",
    "  return review_map[string]\n",
    "\n",
    "review_sentiment['product_id'] = review_sentiment['product'].apply(add_prd_id)"
   ]
  },
  {
   "cell_type": "code",
   "execution_count": 49,
   "metadata": {
    "id": "emiHmgTvvrVU"
   },
   "outputs": [],
   "source": [
    "i = 0\n",
    "p_id = 2 # review_sentiment['product_id'].iloc[i]\n",
    "\n",
    "df = review_sentiment[review_sentiment['product_id'] == p_id].reset_index()\n",
    "\n",
    "overall_vec = pd.DataFrame(np.zeros((len(df), len(features))), columns = features)\n",
    "\n",
    "product_vec = product_vectors[p_id,:]\n",
    "\n",
    "for j in range(len(df)):\n",
    "  for f in range(len(features)):\n",
    "    overall_vec[features[f]].iloc[j] = product_vec[0,f] *  df[features[f]].iloc[j]"
   ]
  },
  {
   "cell_type": "code",
   "execution_count": 50,
   "metadata": {
    "id": "25Zhx4yF-BgQ"
   },
   "outputs": [],
   "source": [
    "pos = review_sentiment[features]\n",
    "pos = pos>0.1\n",
    "pos[pos] = 1\n",
    "pos['product_id'] = review_sentiment['product_id']"
   ]
  },
  {
   "cell_type": "code",
   "execution_count": 51,
   "metadata": {
    "id": "j5go-2119QLx"
   },
   "outputs": [],
   "source": [
    "neg = review_sentiment[features]\n",
    "neg = neg<-0.1\n",
    "neg[neg] = -1\n",
    "neg['product_id'] = review_sentiment['product_id']"
   ]
  },
  {
   "cell_type": "code",
   "execution_count": 52,
   "metadata": {
    "id": "FoCEUkg4I3ra"
   },
   "outputs": [],
   "source": [
    "# product_vectors.shape\n",
    "df2 = pd.DataFrame.sparse.from_spmatrix(product_vectors, columns=features)\n",
    "df2 = df2 > 0.3"
   ]
  },
  {
   "cell_type": "code",
   "execution_count": 53,
   "metadata": {
    "id": "zb-X1XdD_Yiy"
   },
   "outputs": [],
   "source": [
    "negative_perc = 0\n",
    "p_id_worst = 0\n",
    "p_id_second_worse = 0 \n",
    "for p_id in review_mapping['prouduct_id']:\n",
    "  df = neg[neg['product_id'] == p_id].reset_index()\n",
    "\n",
    "  overall_vec = pd.DataFrame(np.zeros((len(df), len(features))), columns = features)\n",
    "\n",
    "  product_vec = np.array(df2.iloc[p_id,:])\n",
    "\n",
    "  for j in range(len(df)):\n",
    "    for f in range(len(features)):\n",
    "      overall_vec[features[f]].iloc[j] = product_vec[f] *  df[features[f]].iloc[j]\n",
    "\n",
    "  if min(overall_vec.mean()) < negative_perc:\n",
    "    p_id_second_worse = p_id_worst\n",
    "    negative_perc = min(overall_vec.mean())\n",
    "    p_id_worst = p_id"
   ]
  },
  {
   "cell_type": "code",
   "execution_count": 54,
   "metadata": {
    "colab": {
     "base_uri": "https://localhost:8080/",
     "height": 358
    },
    "id": "xz_pZqhWOeB1",
    "outputId": "52b7532b-84c5-43da-ecfc-f1494fda5433"
   },
   "outputs": [
    {
     "name": "stdout",
     "output_type": "stream",
     "text": [
      "\n",
      "\n",
      "\n"
     ]
    },
    {
     "data": {
      "image/png": "[encoded data removed]",
      "text/plain": [
       "<Figure size 432x288 with 1 Axes>"
      ]
     },
     "metadata": {
      "needs_background": "light"
     },
     "output_type": "display_data"
    }
   ],
   "source": [
    "p_id = 1\n",
    "\n",
    "df = pos[pos['product_id'] == p_id].reset_index()\n",
    "\n",
    "overall_vec = pd.DataFrame(np.zeros((len(df), len(features))), columns = features)\n",
    "\n",
    "product_vec = np.array(df2.iloc[p_id,:])\n",
    "\n",
    "for j in range(len(df)):\n",
    "  for f in range(len(features)):\n",
    "    overall_vec[features[f]].iloc[j] = product_vec[f] *  df[features[f]].iloc[j]\n",
    "\n",
    "s_pos = overall_vec.mean() * 100\n",
    "\n",
    "df = neg[neg['product_id'] == p_id].reset_index()\n",
    "\n",
    "overall_vec = pd.DataFrame(np.zeros((len(df), len(features))), columns = features)\n",
    "\n",
    "product_vec = np.array(df2.iloc[p_id,:])\n",
    "\n",
    "for j in range(len(df)):\n",
    "  for f in range(len(features)):\n",
    "    overall_vec[features[f]].iloc[j] = product_vec[f] *  df[features[f]].iloc[j]\n",
    "\n",
    "name = review_mapping[review_mapping['prouduct_id'] == p_id]['product_name'].values[0]\n",
    "print(\"\\n\\n\")\n",
    "s = overall_vec.mean() * 100\n",
    "s[s < 0].plot(kind = 'bar', title = name, color = 'blue', label = 'negative')\n",
    "s_pos[s_pos > 0].plot(kind = 'bar', title = name, color = 'orange', label = 'positive')\n",
    "plt.ylabel(\"Review %\")\n",
    "plt.legend()\n",
    "plt.show()"
   ]
  }
 ],
 "metadata": {
  "colab": {
   "collapsed_sections": [],
   "name": "amazon_reviews_vectorization.ipynb",
   "provenance": []
  },
  "kernelspec": {
   "display_name": "Python 3",
   "language": "python",
   "name": "python3"
  },
  "language_info": {
   "codemirror_mode": {
    "name": "ipython",
    "version": 3
   },
   "file_extension": ".py",
   "mimetype": "text/x-python",
   "name": "python",
   "nbconvert_exporter": "python",
   "pygments_lexer": "ipython3",
   "version": "3.8.8"
  },
  "varInspector": {
   "cols": {
    "lenName": 16,
    "lenType": 16,
    "lenVar": 40
   },
   "kernels_config": {
    "python": {
     "delete_cmd_postfix": "",
     "delete_cmd_prefix": "del ",
     "library": "var_list.py",
     "varRefreshCmd": "print(var_dic_list())"
    },
    "r": {
     "delete_cmd_postfix": ") ",
     "delete_cmd_prefix": "rm(",
     "library": "var_list.r",
     "varRefreshCmd": "cat(var_dic_list()) "
    }
   },
   "types_to_exclude": [
    "module",
    "function",
    "builtin_function_or_method",
    "instance",
    "_Feature"
   ],
   "window_display": false
  }
 },
 "nbformat": 4,
 "nbformat_minor": 1
}
